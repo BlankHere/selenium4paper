{
 "cells": [
  {
   "cell_type": "markdown",
   "metadata": {},
   "source": [
    "# Crawl Data by Python + Selenium\n",
    "### Haolin Li \n",
    "### 2019200795@ruc.edu.cn"
   ]
  },
  {
   "cell_type": "markdown",
   "metadata": {},
   "source": [
    "# Install Selenium + Chrome & Chromedriver"
   ]
  },
  {
   "cell_type": "markdown",
   "metadata": {},
   "source": [
    "## Install selenium\n",
    "- Raw python: `Win+R` $\\rightarrow$ `pip install selenium`\n",
    "- Anaconda based python: `conda activate + env-name` $\\rightarrow$ `pip install selenium`\n",
    "\n",
    "P.S. Other useful libs : requests scrapy bs4\n",
    "\n",
    "## Install Chrome\n",
    "## Check Chrome version\n",
    "Type in：**chrome://version**\n",
    "\n",
    "![chrome_version](img/chrome_version.png \"chrome_version\")\n",
    "\n",
    "## Download Chromedriver\n",
    "mirror website: https://registry.npmmirror.com/binary.html?path=chromedriver/\n",
    "find one that suits your version \n",
    "\n",
    "![chromedriver_version](img/chromedriver_version.png \"chromedriver_version\")\n",
    "\n",
    "Put chromedriver in the same directory of chrome.exe\n",
    "\n",
    "![chrome_install_address](img/all_address.png \"chrome_install_address\")"
   ]
  },
  {
   "cell_type": "markdown",
   "metadata": {},
   "source": [
    "# Selenium Basics"
   ]
  },
  {
   "cell_type": "markdown",
   "metadata": {},
   "source": [
    "## Start your first webdriver"
   ]
  },
  {
   "cell_type": "code",
   "execution_count": 1,
   "metadata": {},
   "outputs": [
    {
     "name": "stderr",
     "output_type": "stream",
     "text": [
      "<ipython-input-1-7bbabb0f079a>:6: DeprecationWarning: executable_path has been deprecated, please pass in a Service object\n",
      "  driver = webdriver.Chrome(DRIVER_PATH)\n"
     ]
    }
   ],
   "source": [
    "import selenium\n",
    "from time import sleep\n",
    "from selenium import webdriver\n",
    "\n",
    "# a chrome webpage of baidu should appear for 5 seconds then close automatically\n",
    "\n",
    "DRIVER_PATH = 'C:\\\\Program Files\\\\Google\\\\Chrome\\\\Application\\\\chromedriver.exe'  # change to your own driver path\n",
    "driver = webdriver.Chrome(DRIVER_PATH)\n",
    "url = 'https://www.baidu.com'\n",
    "driver.get(url)\n",
    "sleep(5)\n",
    "driver.quit()"
   ]
  },
  {
   "cell_type": "markdown",
   "metadata": {},
   "source": [
    "# Get info from website by XPATH\n",
    "\n",
    "## What's XPATH anyway?\n",
    "You can easily understand it as memory in your laptop. Your computer uses address of certain data in the memory to capture or change them. If you don't know much abour C++ or how memory works, just take XPATH as the address of RENMIN University for taobao, the shop owner have to know where you are to deliver what you have bought. Similarly, we use XPATH to locate the information we need in HTML documents. \n",
    "\n",
    "## How to get XPATH\n",
    "`F12` $\\rightarrow$ `R key` $\\rightarrow$ `copy` $\\rightarrow$ `copy XPATH`  \n",
    "website to try on: https://pubmed.ncbi.nlm.nih.gov/34265844/\n",
    "\n",
    "![](img/xpath.png)"
   ]
  },
  {
   "cell_type": "markdown",
   "metadata": {},
   "source": [
    "## Use XPATH in selenium"
   ]
  },
  {
   "cell_type": "code",
   "execution_count": 10,
   "metadata": {},
   "outputs": [
    {
     "name": "stderr",
     "output_type": "stream",
     "text": [
      "<ipython-input-10-5f965baa7660>:1: DeprecationWarning: executable_path has been deprecated, please pass in a Service object\n",
      "  driver = webdriver.Chrome(DRIVER_PATH)\n",
      "<ipython-input-10-5f965baa7660>:5: DeprecationWarning: find_element_by_xpath is deprecated. Please use find_element(by=By.XPATH, value=xpath) instead\n",
      "  element = driver.find_element_by_xpath(xpath)\n",
      "<ipython-input-10-5f965baa7660>:7: DeprecationWarning: find_elements_by_xpath is deprecated. Please use find_elements(by=By.XPATH, value=xpath) instead\n",
      "  elements = driver.find_elements_by_xpath(modified_xpath)\n"
     ]
    }
   ],
   "source": [
    "driver = webdriver.Chrome(DRIVER_PATH)\n",
    "url = 'https://pubmed.ncbi.nlm.nih.gov/34265844/'\n",
    "driver.get(url)\n",
    "xpath = '//*[@id=\"top-references-list-1\"]/li[1]/ol/li'\n",
    "element = driver.find_element_by_xpath(xpath)\n",
    "modified_xpath = '//*[@id=\"top-references-list-1\"]/li/ol/li'\n",
    "elements = driver.find_elements_by_xpath(modified_xpath)\n",
    "# driver.quit()"
   ]
  },
  {
   "cell_type": "markdown",
   "metadata": {},
   "source": [
    "## How to click button?\n",
    "\n",
    "remember sleep for some time after click function, so that new info can load successfully for later retrieval. Otherwise, program may throw a **RuntimeError** because it could not find info requested because new info haven't been loaded."
   ]
  },
  {
   "cell_type": "code",
   "execution_count": 16,
   "metadata": {},
   "outputs": [
    {
     "name": "stderr",
     "output_type": "stream",
     "text": [
      "<ipython-input-16-10c6ee100393>:2: DeprecationWarning: executable_path has been deprecated, please pass in a Service object\n",
      "  driver = webdriver.Chrome(DRIVER_PATH)\n",
      "<ipython-input-16-10c6ee100393>:4: DeprecationWarning: find_element_by_xpath is deprecated. Please use find_element(by=By.XPATH, value=xpath) instead\n",
      "  button = driver.find_element_by_xpath(xpath)\n"
     ]
    }
   ],
   "source": [
    "xpath = ''\n",
    "driver = webdriver.Chrome(DRIVER_PATH)\n",
    "driver.get(url)\n",
    "button = driver.find_element_by_xpath(xpath)\n",
    "button.click()\n",
    "sleep(0.2)  # wait new info to load"
   ]
  },
  {
   "cell_type": "markdown",
   "metadata": {},
   "source": [
    "## How to enter new website?"
   ]
  },
  {
   "cell_type": "code",
   "execution_count": 19,
   "metadata": {},
   "outputs": [
    {
     "name": "stderr",
     "output_type": "stream",
     "text": [
      "<ipython-input-19-68d9d5db758f>:2: DeprecationWarning: executable_path has been deprecated, please pass in a Service object\n",
      "  driver = webdriver.Chrome(DRIVER_PATH)\n",
      "<ipython-input-19-68d9d5db758f>:5: DeprecationWarning: find_element_by_xpath is deprecated. Please use find_element(by=By.XPATH, value=xpath) instead\n",
      "  a = driver.find_element_by_xpath(xpath)\n"
     ]
    }
   ],
   "source": [
    "driver.quit()\n",
    "driver = webdriver.Chrome(DRIVER_PATH)\n",
    "driver.get(url)\n",
    "xpath = '//*[@id=\"citedby-articles-list\"]/li[1]/div/a'\n",
    "a = driver.find_element_by_xpath(xpath)"
   ]
  },
  {
   "cell_type": "markdown",
   "metadata": {},
   "source": [
    "# Problem with Pubmed\n",
    "\n",
    "Bad support for old or less popular papers.  \n",
    "e.g. lack of url, lack of reference in website, no cited by href  \n",
    "Solution: use try ... except in Python\n",
    "\n",
    "# How to save your data in Python\n",
    "\n",
    "My preferable way, not secure in general, is to use lib pickle"
   ]
  },
  {
   "cell_type": "code",
   "execution_count": 23,
   "metadata": {},
   "outputs": [],
   "source": [
    "import pickle\n",
    "\n",
    "data = dict()  # data of any kind with any class or datatype\n",
    "pickle.dump(data, open('data.pickle', 'wb'), protocol=3)  # if you have to use python 2.x, use protocal = 2 always"
   ]
  },
  {
   "cell_type": "code",
   "execution_count": 24,
   "metadata": {},
   "outputs": [],
   "source": [
    "data = pickle.load(open('data.pickle', 'rb'))"
   ]
  },
  {
   "cell_type": "markdown",
   "metadata": {},
   "source": [
    "# How to use my code\n",
    "\n",
    "### github website\n",
    "https://github.com/BlankHere/selenium4paper\n",
    "\n"
   ]
  }
 ],
 "metadata": {
  "interpreter": {
   "hash": "485035c5b2a6f2b50dc2dc5ca51aeeb931032fbc9adc2e30c7c528d6bf8a9176"
  },
  "kernelspec": {
   "display_name": "Python 3.8.8 64-bit ('base': conda)",
   "name": "python3"
  },
  "language_info": {
   "codemirror_mode": {
    "name": "ipython",
    "version": 3
   },
   "file_extension": ".py",
   "mimetype": "text/x-python",
   "name": "python",
   "nbconvert_exporter": "python",
   "pygments_lexer": "ipython3",
   "version": "3.8.8"
  },
  "orig_nbformat": 4
 },
 "nbformat": 4,
 "nbformat_minor": 2
}
